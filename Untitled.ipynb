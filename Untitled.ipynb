{
 "cells": [
  {
   "cell_type": "code",
   "execution_count": null,
   "id": "d9e1fe08",
   "metadata": {},
   "outputs": [],
   "source": [
    "numbers = input().split()\n",
    "for i in range(0 , len(numbers)):\n",
    "    numbers[i] = int(numbers[i])\n",
    "    print(numbers)\n",
    "abc = 0\n",
    "for ab in abc:\n",
    "    if ab > abc:\n",
    "        abc = ab\n",
    "\n",
    "print(f\"{abc}\")"
   ]
  },
  {
   "cell_type": "code",
   "execution_count": null,
   "id": "0770cfec",
   "metadata": {},
   "outputs": [],
   "source": [
    "\n",
    "\n",
    "\n",
    "\n",
    "\n",
    "\n",
    "\n"
   ]
  },
  {
   "cell_type": "code",
   "execution_count": null,
   "id": "448dfb36",
   "metadata": {},
   "outputs": [],
   "source": []
  }
 ],
 "metadata": {
  "kernelspec": {
   "display_name": "Python 3 (ipykernel)",
   "language": "python",
   "name": "python3"
  },
  "language_info": {
   "codemirror_mode": {
    "name": "ipython",
    "version": 3
   },
   "file_extension": ".py",
   "mimetype": "text/x-python",
   "name": "python",
   "nbconvert_exporter": "python",
   "pygments_lexer": "ipython3",
   "version": "3.11.7"
  }
 },
 "nbformat": 4,
 "nbformat_minor": 5
}
